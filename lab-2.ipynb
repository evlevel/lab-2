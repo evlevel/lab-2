{
 "cells": [
  {
   "cell_type": "markdown",
   "id": "9710fe56",
   "metadata": {},
   "source": [
    "### Lab 2: Python Data, Expressions, Turtle Graphics\t\t\t\t\t\n",
    "#### Class 2\t\t\t\t\t\t\t\t\t\n",
    "#### Due by midnight of Class 3\n",
    "**7 points = 1 point per problem**\t\n",
    "\n",
    "In this and most other Labs, the \"handout\" will be a IPython notebook (.ipynb) like this one.\n",
    "\n",
    "The notebook will be posted inside the Canvas Lab Assignment area, as well as provided on GitHub.  Download it from there by starting an Anaconda Prompt (Windows) or Terminal (Mac), then use this command:  git clone https://www.github.com/ericlevel/lab-2\n",
    "\n",
    "You should use the PyCharm Integrated Development Environment (IDE) to write, execute and test your Python code unless otherwise specified.\n",
    "\n",
    "At the start of each of the following lab problems, the name of a Python file is given in blue: foo.py.  You should create and save the requested program source code in a file having exactly this name.  Please add a comment at the top of each submitted .py file, giving your name and the name of the source file.\n",
    "\n",
    "When finished, upload each .py file separately to the Canvas Lab 2 assignment page, as part of a single submission. This means all of the files submitted (or re-submitted) for a given week should be uploaded in the same submission."
   ]
  },
  {
   "cell_type": "markdown",
   "id": "cea33054",
   "metadata": {},
   "source": [
    "**[L2-Preamble]** Download the `lab_2_starting.zip` file, then unzip it to some place where you can write files.  \n",
    " \n",
    "Then start PyCharm on your local PC or laptop.  It should present you with a welcome window, allowing you to Create a New Project, or Open, or Check Out from Version Control.  I assume that you've configured PyCharm to use the correct Anaconda Python interpreter: we covered how to do this in Lab 2.\n",
    "\n",
    "Here, select Open. If you don't see this, you might see the last project opened.  In this case, select `File->Close Project` first, then `Open` within the welcome window. Navigate to your `lab_2_starting` folder, select the folder, and click on Open.\n",
    "\n",
    "You should then see the starting .py files within the left Project area within PyCharm.  Each file contains starting code for the corresponding problem files below. \n",
    "\n",
    "Do as many of the following as we have time for in class. Upload each of your .py files to Canvas within the Lab 2 Assignment link."
   ]
  },
  {
   "cell_type": "markdown",
   "id": "2cf50be3",
   "metadata": {},
   "source": [
    "**[L2-1] `(howto.py)`** The starting file **`howto.py`** contains a simple program that reads a number from the user, then prints out the square of the entered value.  Together, we will practice how to modify this program by adding a `''' '''` comment at the end of its source code containing the contents of your console session after running your program.  This content normally includes both the requested input you enter when running the program, along with its generated output.  You will copy and paste this content from your PyCharm console into this ''' ''' comment at the end of your .py file.  This is how I want all homework to be modified before submission; labs do NOT require this normally, but we do so here so you can practice getting this correct."
   ]
  },
  {
   "cell_type": "markdown",
   "id": "1c0a843d",
   "metadata": {},
   "source": [
    "**[L2-2] `(swap.py)`** Write a program that prompts and reads two integers (int) from the user, assigning the first to variable one and the second to variable two. Then write code which exchanges or swaps the values in one and two."
   ]
  },
  {
   "cell_type": "markdown",
   "id": "9174f546",
   "metadata": {},
   "source": [
    "**[L2-3] `(eval.py)`** (This is practice for H2.) Write a program which does the evaluation of the expression: 10 + 8 * 6 - 4 / 2 - 9 via a series of assignment statements. Each assignment statement MUST be of the form var = e1 op e2, where var is some variable, op is one of the arithmetic operators +,-,/,*,**,// and each of e1 and e2 should either (a) an int literal or (b) a variable you assigned to in earlier statements. Your final assignment statement should be of the form result = e1 op e2. \n",
    "\n",
    "Note that each of your assignment statements should have only ONE operator and TWO operands on the right-hand side.\n",
    "\n",
    "After your series of assignment statements (remember: one operator, two operands ONLY), add these two statements: print(result)and print(10+8*6-4/2-9). Be sure assignments reflects the correct order of evaluating the sub-expressions when calculating result, so that the output of both is the exactly the same. Why isn't your answer an int? And don't forget that 47 is NOT the same as 47.0!"
   ]
  },
  {
   "cell_type": "markdown",
   "id": "b10ad64e",
   "metadata": {},
   "source": [
    "**[L2-4] `(nostar.py)`**   Write a program which reads integers `x` and `y`, then prints out the value of `x*y`; that is, `x` multiplied by `y`.  \n",
    "\n",
    "HOWEVER: you <u>cannot</u> use the `*` operator.  \n",
    "Hint: use the <u>accumulator pattern</u> within a `for`-loop.  \n",
    "That is, compute `product = x*y` in the following way:"
   ]
  },
  {
   "cell_type": "code",
   "execution_count": 6,
   "id": "ceda0697",
   "metadata": {
    "scrolled": true
   },
   "outputs": [
    {
     "name": "stdout",
     "output_type": "stream",
     "text": [
      "6\n"
     ]
    }
   ],
   "source": [
    "x = 2\n",
    "y = 3\n",
    "product = 0  \n",
    "\n",
    "for counter in range (x): # loop x times: counter = 0,1,...,x-1\n",
    "    product = product + y  \n",
    "    \n",
    "print (product) # product now contains y+y+...+y (x times), which is x*y"
   ]
  },
  {
   "cell_type": "markdown",
   "id": "445fd1c0",
   "metadata": {},
   "source": []
  },
  {
   "cell_type": "markdown",
   "id": "26eae7b1",
   "metadata": {},
   "source": [
    "**[L2-5] `(boxes1.py)`** Create a Python program using turtle graphics (import turtle) that draws the picture shown at the right. One square is nested in the other, with the inner and outer squares as 80 and 100 units on a side, respectively. The horizontal and vertical distance between squares is 10 units, and both squares are centered at the turtle world's origin of (0,0). If you have trouble getting your drawing to look exactly like the picture, do the best you can."
   ]
  },
  {
   "cell_type": "markdown",
   "id": "32b43582",
   "metadata": {},
   "source": [
    "__[L2-6] `(triangles.py)`__ Create a Python program using turtle graphics that draws the picture shown at the right. The inner equilateral triangle is nested inside the outer equilateral triangle, with the outer having a side of length 200. Each vertex of the inner triangle touches the midpoints of sides of the outer triangle. You can draw your triangles anywhere within the screen; for an extra challenge, see if you can center both triangles at the turtle's origin (0,0). This means the origin must be the same distance from each vertex of the inner triangle."
   ]
  },
  {
   "cell_type": "markdown",
   "id": "dd5177b7",
   "metadata": {},
   "source": [
    "**[L2-7] \\(`rangefun1.py`)** Write a program that reads integers `a,b,c` from the user using a sequence of three `input()` statements (don't forget to cast the `str` input to `int`!), then uses the following loop to print out each element of the `range(a,b,c)`, one per line:"
   ]
  },
  {
   "cell_type": "code",
   "execution_count": 7,
   "id": "409d3c19",
   "metadata": {},
   "outputs": [
    {
     "name": "stdout",
     "output_type": "stream",
     "text": [
      "1 2 \n"
     ]
    }
   ],
   "source": [
    "a=1\n",
    "b=3\n",
    "c=1\n",
    "\n",
    "for num in range(a,b,c): \n",
    "    print(num, end=' ')\n",
    "print()"
   ]
  },
  {
   "cell_type": "markdown",
   "id": "1d93c832",
   "metadata": {},
   "source": [
    "Run your program multiple times, entering different values for `a`, `b`, and `c`. Be sure you understand how `range(a,b,c)` generates the different sequences that are printed out, especially for negative `c`.\n",
    "\n",
    "Now see if you can find specific values of `a`, `b`, `c` that results in output of each of the following sequences:\n",
    "\n",
    "\t0 1 2 3\n",
    "\t-3 -2 -1 0 1\n",
    "\t10 8 6 4 2\n",
    "\t1 47\n",
    "\n",
    "Then do so by copying the above `for`-loop code, pasting it then replacing `a`,`b`,`c` with specific values that yield one of the above sequences.  Do this for each of the four given sequences."
   ]
  },
  {
   "cell_type": "code",
   "execution_count": null,
   "id": "ee4ea65a",
   "metadata": {},
   "outputs": [],
   "source": []
  },
  {
   "cell_type": "code",
   "execution_count": null,
   "id": "67f9366f",
   "metadata": {},
   "outputs": [],
   "source": []
  }
 ],
 "metadata": {
  "kernelspec": {
   "display_name": "Python 3",
   "language": "python",
   "name": "python3"
  },
  "language_info": {
   "codemirror_mode": {
    "name": "ipython",
    "version": 3
   },
   "file_extension": ".py",
   "mimetype": "text/x-python",
   "name": "python",
   "nbconvert_exporter": "python",
   "pygments_lexer": "ipython3",
   "version": "3.8.10"
  }
 },
 "nbformat": 4,
 "nbformat_minor": 5
}
